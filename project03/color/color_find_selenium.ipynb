{
 "cells": [
  {
   "cell_type": "code",
   "execution_count": 156,
   "id": "e1e2675c",
   "metadata": {},
   "outputs": [],
   "source": [
    "import pandas as pd\n",
    "import time\n",
    "\n",
    "from selenium import webdriver\n",
    "from selenium.webdriver.chrome.service import Service\n",
    "from webdriver_manager.chrome import ChromeDriverManager\n",
    "from selenium.webdriver.common.by import By\n",
    "from selenium.webdriver.support.ui import WebDriverWait\n",
    "from selenium.webdriver.support import expected_conditions as EC"
   ]
  },
  {
   "cell_type": "code",
   "execution_count": null,
   "id": "3f6b55e1",
   "metadata": {},
   "outputs": [],
   "source": [
    "file = 'cluster_color.csv'\n",
    "df = pd.read_csv(file)"
   ]
  },
  {
   "cell_type": "markdown",
   "id": "c19d88ca",
   "metadata": {},
   "source": [
    "# 본인이 맡은 인덱스 번호 지정\n",
    "- ex) `df = df[3000:6000]`"
   ]
  },
  {
   "cell_type": "code",
   "execution_count": 197,
   "id": "55f5f724",
   "metadata": {},
   "outputs": [],
   "source": [
    "df = df[1000:2000]"
   ]
  },
  {
   "cell_type": "code",
   "execution_count": 198,
   "id": "4bc52c1b",
   "metadata": {},
   "outputs": [
    {
     "name": "stderr",
     "output_type": "stream",
     "text": [
      "C:\\Users\\yhn03\\AppData\\Local\\Temp\\ipykernel_6896\\4175001898.py:1: SettingWithCopyWarning: \n",
      "A value is trying to be set on a copy of a slice from a DataFrame.\n",
      "Try using .loc[row_indexer,col_indexer] = value instead\n",
      "\n",
      "See the caveats in the documentation: https://pandas.pydata.org/pandas-docs/stable/user_guide/indexing.html#returning-a-view-versus-a-copy\n",
      "  df['color'] = None\n"
     ]
    },
    {
     "data": {
      "text/html": [
       "<div>\n",
       "<style scoped>\n",
       "    .dataframe tbody tr th:only-of-type {\n",
       "        vertical-align: middle;\n",
       "    }\n",
       "\n",
       "    .dataframe tbody tr th {\n",
       "        vertical-align: top;\n",
       "    }\n",
       "\n",
       "    .dataframe thead th {\n",
       "        text-align: right;\n",
       "    }\n",
       "</style>\n",
       "<table border=\"1\" class=\"dataframe\">\n",
       "  <thead>\n",
       "    <tr style=\"text-align: right;\">\n",
       "      <th></th>\n",
       "      <th>cluster_R</th>\n",
       "      <th>cluster_G</th>\n",
       "      <th>cluster_B</th>\n",
       "      <th>color</th>\n",
       "    </tr>\n",
       "  </thead>\n",
       "  <tbody>\n",
       "    <tr>\n",
       "      <th>1000</th>\n",
       "      <td>223</td>\n",
       "      <td>226</td>\n",
       "      <td>227</td>\n",
       "      <td>None</td>\n",
       "    </tr>\n",
       "    <tr>\n",
       "      <th>1001</th>\n",
       "      <td>148</td>\n",
       "      <td>147</td>\n",
       "      <td>148</td>\n",
       "      <td>None</td>\n",
       "    </tr>\n",
       "    <tr>\n",
       "      <th>1002</th>\n",
       "      <td>0</td>\n",
       "      <td>124</td>\n",
       "      <td>194</td>\n",
       "      <td>None</td>\n",
       "    </tr>\n",
       "    <tr>\n",
       "      <th>1003</th>\n",
       "      <td>44</td>\n",
       "      <td>44</td>\n",
       "      <td>42</td>\n",
       "      <td>None</td>\n",
       "    </tr>\n",
       "    <tr>\n",
       "      <th>1004</th>\n",
       "      <td>231</td>\n",
       "      <td>232</td>\n",
       "      <td>236</td>\n",
       "      <td>None</td>\n",
       "    </tr>\n",
       "    <tr>\n",
       "      <th>...</th>\n",
       "      <td>...</td>\n",
       "      <td>...</td>\n",
       "      <td>...</td>\n",
       "      <td>...</td>\n",
       "    </tr>\n",
       "    <tr>\n",
       "      <th>1995</th>\n",
       "      <td>227</td>\n",
       "      <td>226</td>\n",
       "      <td>228</td>\n",
       "      <td>None</td>\n",
       "    </tr>\n",
       "    <tr>\n",
       "      <th>1996</th>\n",
       "      <td>218</td>\n",
       "      <td>218</td>\n",
       "      <td>220</td>\n",
       "      <td>None</td>\n",
       "    </tr>\n",
       "    <tr>\n",
       "      <th>1997</th>\n",
       "      <td>39</td>\n",
       "      <td>39</td>\n",
       "      <td>42</td>\n",
       "      <td>None</td>\n",
       "    </tr>\n",
       "    <tr>\n",
       "      <th>1998</th>\n",
       "      <td>112</td>\n",
       "      <td>111</td>\n",
       "      <td>120</td>\n",
       "      <td>None</td>\n",
       "    </tr>\n",
       "    <tr>\n",
       "      <th>1999</th>\n",
       "      <td>181</td>\n",
       "      <td>182</td>\n",
       "      <td>180</td>\n",
       "      <td>None</td>\n",
       "    </tr>\n",
       "  </tbody>\n",
       "</table>\n",
       "<p>1000 rows × 4 columns</p>\n",
       "</div>"
      ],
      "text/plain": [
       "      cluster_R  cluster_G  cluster_B color\n",
       "1000        223        226        227  None\n",
       "1001        148        147        148  None\n",
       "1002          0        124        194  None\n",
       "1003         44         44         42  None\n",
       "1004        231        232        236  None\n",
       "...         ...        ...        ...   ...\n",
       "1995        227        226        228  None\n",
       "1996        218        218        220  None\n",
       "1997         39         39         42  None\n",
       "1998        112        111        120  None\n",
       "1999        181        182        180  None\n",
       "\n",
       "[1000 rows x 4 columns]"
      ]
     },
     "execution_count": 198,
     "metadata": {},
     "output_type": "execute_result"
    }
   ],
   "source": [
    "df['color'] = None\n",
    "df"
   ]
  },
  {
   "cell_type": "code",
   "execution_count": 159,
   "id": "e0244987",
   "metadata": {},
   "outputs": [],
   "source": [
    "def get_chrome_driver():\n",
    "    chrome_options = webdriver.ChromeOptions()\n",
    "    # chrome_options.headless = True\n",
    "\n",
    "    driver = webdriver.Chrome(\n",
    "        service=Service(ChromeDriverManager().install()),\n",
    "        options=chrome_options\n",
    "    )\n",
    "    \n",
    "    return driver"
   ]
  },
  {
   "cell_type": "code",
   "execution_count": 160,
   "id": "0c09e7c1",
   "metadata": {},
   "outputs": [
    {
     "name": "stdout",
     "output_type": "stream",
     "text": [
      "\n"
     ]
    },
    {
     "name": "stderr",
     "output_type": "stream",
     "text": [
      "[WDM] - ====== WebDriver manager ======\n",
      "[WDM] - Current google-chrome version is 103.0.5060\n",
      "[WDM] - Get LATEST chromedriver version for 103.0.5060 google-chrome\n",
      "[WDM] - Driver [C:\\Users\\yhn03\\.wdm\\drivers\\chromedriver\\win32\\103.0.5060.53\\chromedriver.exe] found in cache\n"
     ]
    }
   ],
   "source": [
    "driver = get_chrome_driver()\n",
    "driver.implicitly_wait(10)"
   ]
  },
  {
   "cell_type": "code",
   "execution_count": 199,
   "id": "ba99e35a",
   "metadata": {},
   "outputs": [],
   "source": [
    "driver.get('https://www.rapidtables.org/ko/web/color/RGB_Color.html')"
   ]
  },
  {
   "cell_type": "code",
   "execution_count": 200,
   "id": "d6b7f3a0",
   "metadata": {},
   "outputs": [],
   "source": [
    "df_iterator = df.iterrows()"
   ]
  },
  {
   "cell_type": "markdown",
   "id": "7aa4f6d9",
   "metadata": {},
   "source": [
    "# 아래 두 셀 반복 실행\n",
    "- 아래 셀 color에 색깔 이름 적어서 실행"
   ]
  },
  {
   "cell_type": "code",
   "execution_count": 201,
   "id": "f4c45efb",
   "metadata": {},
   "outputs": [],
   "source": [
    "idx, rgb = next(df_iterator)\n",
    "\n",
    "driver.find_element(By.XPATH, '//*[@id=\"yui-picker-r\"]').clear()\n",
    "time.sleep(0.5)\n",
    "driver.find_element(By.XPATH, '//*[@id=\"yui-picker-r\"]').clear()\n",
    "driver.find_element(By.XPATH, '//*[@id=\"yui-picker-r\"]').send_keys(str(rgb['cluster_R']))\n",
    "\n",
    "driver.find_element(By.XPATH, '//*[@id=\"yui-picker-g\"]').clear()\n",
    "time.sleep(0.5)\n",
    "driver.find_element(By.XPATH, '//*[@id=\"yui-picker-g\"]').clear()\n",
    "driver.find_element(By.XPATH, '//*[@id=\"yui-picker-g\"]').send_keys(str(rgb['cluster_G']))\n",
    "\n",
    "driver.find_element(By.XPATH, '//*[@id=\"yui-picker-b\"]').clear()\n",
    "time.sleep(0.5)\n",
    "driver.find_element(By.XPATH, '//*[@id=\"yui-picker-b\"]').clear()\n",
    "driver.find_element(By.XPATH, '//*[@id=\"yui-picker-b\"]').send_keys(str(rgb['cluster_B']))\n",
    "\n",
    "time.sleep(0.5)\n",
    "driver.find_element(By.XPATH, '//*[@id=\"doc\"]/div[1]').click()"
   ]
  },
  {
   "cell_type": "code",
   "execution_count": 202,
   "id": "b70c39cf",
   "metadata": {},
   "outputs": [],
   "source": [
    "color = '여기에 색깔 이름 적어주세요'\n",
    "\n",
    "df.loc[idx, 'color'] = color"
   ]
  },
  {
   "cell_type": "code",
   "execution_count": 203,
   "id": "3d616e77",
   "metadata": {},
   "outputs": [
    {
     "data": {
      "text/html": [
       "<div>\n",
       "<style scoped>\n",
       "    .dataframe tbody tr th:only-of-type {\n",
       "        vertical-align: middle;\n",
       "    }\n",
       "\n",
       "    .dataframe tbody tr th {\n",
       "        vertical-align: top;\n",
       "    }\n",
       "\n",
       "    .dataframe thead th {\n",
       "        text-align: right;\n",
       "    }\n",
       "</style>\n",
       "<table border=\"1\" class=\"dataframe\">\n",
       "  <thead>\n",
       "    <tr style=\"text-align: right;\">\n",
       "      <th></th>\n",
       "      <th>cluster_R</th>\n",
       "      <th>cluster_G</th>\n",
       "      <th>cluster_B</th>\n",
       "      <th>color</th>\n",
       "    </tr>\n",
       "  </thead>\n",
       "  <tbody>\n",
       "    <tr>\n",
       "      <th>1000</th>\n",
       "      <td>223</td>\n",
       "      <td>226</td>\n",
       "      <td>227</td>\n",
       "      <td></td>\n",
       "    </tr>\n",
       "    <tr>\n",
       "      <th>1001</th>\n",
       "      <td>148</td>\n",
       "      <td>147</td>\n",
       "      <td>148</td>\n",
       "      <td>None</td>\n",
       "    </tr>\n",
       "    <tr>\n",
       "      <th>1002</th>\n",
       "      <td>0</td>\n",
       "      <td>124</td>\n",
       "      <td>194</td>\n",
       "      <td>None</td>\n",
       "    </tr>\n",
       "    <tr>\n",
       "      <th>1003</th>\n",
       "      <td>44</td>\n",
       "      <td>44</td>\n",
       "      <td>42</td>\n",
       "      <td>None</td>\n",
       "    </tr>\n",
       "    <tr>\n",
       "      <th>1004</th>\n",
       "      <td>231</td>\n",
       "      <td>232</td>\n",
       "      <td>236</td>\n",
       "      <td>None</td>\n",
       "    </tr>\n",
       "    <tr>\n",
       "      <th>...</th>\n",
       "      <td>...</td>\n",
       "      <td>...</td>\n",
       "      <td>...</td>\n",
       "      <td>...</td>\n",
       "    </tr>\n",
       "    <tr>\n",
       "      <th>1995</th>\n",
       "      <td>227</td>\n",
       "      <td>226</td>\n",
       "      <td>228</td>\n",
       "      <td>None</td>\n",
       "    </tr>\n",
       "    <tr>\n",
       "      <th>1996</th>\n",
       "      <td>218</td>\n",
       "      <td>218</td>\n",
       "      <td>220</td>\n",
       "      <td>None</td>\n",
       "    </tr>\n",
       "    <tr>\n",
       "      <th>1997</th>\n",
       "      <td>39</td>\n",
       "      <td>39</td>\n",
       "      <td>42</td>\n",
       "      <td>None</td>\n",
       "    </tr>\n",
       "    <tr>\n",
       "      <th>1998</th>\n",
       "      <td>112</td>\n",
       "      <td>111</td>\n",
       "      <td>120</td>\n",
       "      <td>None</td>\n",
       "    </tr>\n",
       "    <tr>\n",
       "      <th>1999</th>\n",
       "      <td>181</td>\n",
       "      <td>182</td>\n",
       "      <td>180</td>\n",
       "      <td>None</td>\n",
       "    </tr>\n",
       "  </tbody>\n",
       "</table>\n",
       "<p>1000 rows × 4 columns</p>\n",
       "</div>"
      ],
      "text/plain": [
       "      cluster_R  cluster_G  cluster_B color\n",
       "1000        223        226        227      \n",
       "1001        148        147        148  None\n",
       "1002          0        124        194  None\n",
       "1003         44         44         42  None\n",
       "1004        231        232        236  None\n",
       "...         ...        ...        ...   ...\n",
       "1995        227        226        228  None\n",
       "1996        218        218        220  None\n",
       "1997         39         39         42  None\n",
       "1998        112        111        120  None\n",
       "1999        181        182        180  None\n",
       "\n",
       "[1000 rows x 4 columns]"
      ]
     },
     "execution_count": 203,
     "metadata": {},
     "output_type": "execute_result"
    }
   ],
   "source": [
    "df"
   ]
  },
  {
   "cell_type": "code",
   "execution_count": null,
   "id": "741f2316",
   "metadata": {},
   "outputs": [],
   "source": []
  }
 ],
 "metadata": {
  "kernelspec": {
   "display_name": "Python 3.8.8 ('base')",
   "language": "python",
   "name": "python3"
  },
  "language_info": {
   "codemirror_mode": {
    "name": "ipython",
    "version": 3
   },
   "file_extension": ".py",
   "mimetype": "text/x-python",
   "name": "python",
   "nbconvert_exporter": "python",
   "pygments_lexer": "ipython3",
   "version": "3.8.8"
  },
  "vscode": {
   "interpreter": {
    "hash": "d2644f935bdce85508db0f6f53845968e25b911a8ed1edcfd9df60e5e7f34e68"
   }
  }
 },
 "nbformat": 4,
 "nbformat_minor": 5
}
