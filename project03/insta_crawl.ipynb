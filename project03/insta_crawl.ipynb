{
 "cells": [
  {
   "cell_type": "code",
   "execution_count": 1,
   "metadata": {},
   "outputs": [],
   "source": [
    "from selenium import webdriver\n",
    "import requests\n",
    "from scrapy.http import TextResponse\n",
    "from bs4 import BeautifulSoup"
   ]
  },
  {
   "cell_type": "code",
   "execution_count": 2,
   "metadata": {},
   "outputs": [],
   "source": [
    "from selenium.webdriver.chrome.service import Service\n",
    "from webdriver_manager.chrome import ChromeDriverManager\n",
    "from selenium.webdriver.common.by import By\n",
    "import time"
   ]
  },
  {
   "cell_type": "code",
   "execution_count": 3,
   "metadata": {},
   "outputs": [],
   "source": [
    "def get_chrome_driver():\n",
    "    # 1. 크롬 옵션 세팅\n",
    "    chrome_options = webdriver.ChromeOptions()\n",
    "    \n",
    "    # 2. driver 생성하기\n",
    "    driver = webdriver.Chrome(\n",
    "        service=Service(ChromeDriverManager().install()), # 가장 많이 바뀐 부분\n",
    "        options=chrome_options\n",
    "    )\n",
    "    \n",
    "    return driver"
   ]
  },
  {
   "cell_type": "code",
   "execution_count": 4,
   "metadata": {},
   "outputs": [
    {
     "name": "stdout",
     "output_type": "stream",
     "text": [
      "\n"
     ]
    }
   ],
   "source": [
    "driver = get_chrome_driver()"
   ]
  },
  {
   "cell_type": "code",
   "execution_count": 5,
   "metadata": {},
   "outputs": [],
   "source": [
    "url='https://www.instagram.com/'\n",
    "driver.get(url)"
   ]
  },
  {
   "cell_type": "code",
   "execution_count": 6,
   "metadata": {},
   "outputs": [],
   "source": [
    "driver.find_element(By.XPATH, '//*[@id=\"loginForm\"]/div/div[1]/div/label/input').click()\n",
    "driver.find_element(By.XPATH, '//*[@id=\"loginForm\"]/div/div[1]/div/label/input').send_keys('heungminn@naver.com')\n",
    "driver.find_element(By.XPATH, '//*[@id=\"loginForm\"]/div/div[2]/div/label/input').send_keys('multi!1234')\n",
    "driver.find_element(By.XPATH, '//*[@id=\"loginForm\"]/div[1]/div[3]/button/div').click()\n",
    "\n",
    "\n",
    "time.sleep(2)"
   ]
  },
  {
   "cell_type": "code",
   "execution_count": 7,
   "metadata": {},
   "outputs": [],
   "source": [
    "driver.find_element(By.XPATH, '//*[@id=\"react-root\"]/section/main/div/div/div/div/button').click()"
   ]
  },
  {
   "cell_type": "code",
   "execution_count": 9,
   "metadata": {},
   "outputs": [],
   "source": [
    "driver.find_element(By.CSS_SELECTOR, '._a9_1').click()"
   ]
  },
  {
   "cell_type": "code",
   "execution_count": 10,
   "metadata": {},
   "outputs": [],
   "source": [
    "url1='https://www.instagram.com/apfhda7/'\n",
    "driver.get(url1)"
   ]
  },
  {
   "cell_type": "code",
   "execution_count": 11,
   "metadata": {},
   "outputs": [],
   "source": [
    "req= requests.get(url1)\n",
    "response = TextResponse(req.url, body=req.text, encoding='utf-8')"
   ]
  },
  {
   "cell_type": "code",
   "execution_count": 12,
   "metadata": {},
   "outputs": [
    {
     "name": "stdout",
     "output_type": "stream",
     "text": [
      "[<selenium.webdriver.remote.webelement.WebElement (session=\"b2385f8e7cf1eec3b8b9f2e0c7f1612a\", element=\"a32aa850-005e-478b-8b07-b4237d3136cc\")>, <selenium.webdriver.remote.webelement.WebElement (session=\"b2385f8e7cf1eec3b8b9f2e0c7f1612a\", element=\"8d1513c7-76b7-4622-b901-5b509354b254\")>, <selenium.webdriver.remote.webelement.WebElement (session=\"b2385f8e7cf1eec3b8b9f2e0c7f1612a\", element=\"e6bbd395-d034-4c69-a17e-db6b3e576194\")>, <selenium.webdriver.remote.webelement.WebElement (session=\"b2385f8e7cf1eec3b8b9f2e0c7f1612a\", element=\"644127c8-bd0f-44fb-adf5-db783626e01c\")>, <selenium.webdriver.remote.webelement.WebElement (session=\"b2385f8e7cf1eec3b8b9f2e0c7f1612a\", element=\"f1b115a3-256d-429a-bde2-a763877856c9\")>, <selenium.webdriver.remote.webelement.WebElement (session=\"b2385f8e7cf1eec3b8b9f2e0c7f1612a\", element=\"bde5a013-17c1-4f52-9203-7c08dc557463\")>, <selenium.webdriver.remote.webelement.WebElement (session=\"b2385f8e7cf1eec3b8b9f2e0c7f1612a\", element=\"8bf26bb1-0dab-4ab3-90eb-cb3759e90d7f\")>, <selenium.webdriver.remote.webelement.WebElement (session=\"b2385f8e7cf1eec3b8b9f2e0c7f1612a\", element=\"32f78c5e-06f1-4b00-be76-d50151bc2d07\")>]\n"
     ]
    }
   ],
   "source": [
    "t1 =driver.find_elements(By.CSS_SELECTOR,'._aabd._aa8k._aanf > a')\n",
    "print(t1)\n"
   ]
  },
  {
   "cell_type": "code",
   "execution_count": 13,
   "metadata": {},
   "outputs": [
    {
     "name": "stdout",
     "output_type": "stream",
     "text": [
      "https://www.instagram.com/p/CgQdLzUJ5_t/\n",
      "https://www.instagram.com/p/CgQVd2IP3uO/\n",
      "https://www.instagram.com/p/Cf8grvFPs4n/\n",
      "https://www.instagram.com/p/Cf8gkeLvPGe/\n",
      "https://www.instagram.com/p/Cf8gNO-vEZH/\n",
      "https://www.instagram.com/p/Cf8gFdTvFR2/\n",
      "https://www.instagram.com/p/CRLnFSjJh5C/\n",
      "https://www.instagram.com/p/B3Dx7TUAs0b/\n"
     ]
    }
   ],
   "source": [
    "for t in t1:                             \n",
    "    lst=t.get_attribute('href')\n",
    "    print(lst) "
   ]
  },
  {
   "cell_type": "code",
   "execution_count": 14,
   "metadata": {},
   "outputs": [],
   "source": [
    "url= 'https://www.instagram.com/p/CgQVd2IP3uO/'\n",
    "driver.get(url)"
   ]
  },
  {
   "cell_type": "code",
   "execution_count": 23,
   "metadata": {},
   "outputs": [
    {
     "data": {
      "text/plain": [
       "[<selenium.webdriver.remote.webelement.WebElement (session=\"b2385f8e7cf1eec3b8b9f2e0c7f1612a\", element=\"ab2e6b9b-1b01-46ed-91d2-dfa7aef5302b\")>,\n",
       " <selenium.webdriver.remote.webelement.WebElement (session=\"b2385f8e7cf1eec3b8b9f2e0c7f1612a\", element=\"63335e26-0aad-4750-97b8-bf5d61c84f89\")>,\n",
       " <selenium.webdriver.remote.webelement.WebElement (session=\"b2385f8e7cf1eec3b8b9f2e0c7f1612a\", element=\"c970a556-def8-4394-98ea-c0a3f1b91413\")>]"
      ]
     },
     "execution_count": 23,
     "metadata": {},
     "output_type": "execute_result"
    }
   ],
   "source": [
    "driver.find_elements(By.CSS_SELECTOR,'._aagu._aamh') # 3개만"
   ]
  },
  {
   "cell_type": "code",
   "execution_count": 12,
   "metadata": {},
   "outputs": [
    {
     "data": {
      "text/plain": [
       "'https://scontent-ssn1-1.cdninstagram.com/v/t51.2885-15/294554018_144444197910348_8021559049445305108_n.jpg?stp=dst-jpg_e35&cb=2d435ae8-ef10543b&_nc_ht=scontent-ssn1-1.cdninstagram.com&_nc_cat=100&_nc_ohc=Xo862F0r42oAX8hkxyr&edm=AJ9x6zYBAAAA&ccb=7-5&ig_cache_key=Mjg4NjkzNTcxMDk5MzQ0ODE1NA%3D%3D.2-ccb7-5&oh=00_AT8kvsNt-TTOqGP4OcXO-GMUILFLODlfgEaKHnzUm70qRA&oe=62DEFD97&_nc_sid=cff2a4'"
      ]
     },
     "execution_count": 12,
     "metadata": {},
     "output_type": "execute_result"
    }
   ],
   "source": [
    "# 첫번째 사진 \n",
    "driver.find_element(By.CSS_SELECTOR,'#mount_0_0_A3 > div > div > div > div.rq0escxv.l9j0dhe7.du4w35lb > div > div > div > div.j83agx80.cbu4d94t.d6urw2fd.dp1hu0rb.l9j0dhe7.du4w35lb > \\\n",
    "div._a3gq._ab-1 > section > main > div:nth-child(1) > section > div._aam1._aam2 > div._ab8w._ab94._ab99._ab9f._ab9m._ab9p._abcm > div:nth-child(1) > div > article:nth-child(1) > div >\\\n",
    "     div._aatk > div > div._aamn > div._ab8w._ab94._ab99._ab9f._ab9m._ab9p._abcf._abcg._abch._abck._abcl._abcm > div > div > div > ul > li:nth-child(2) > div > div > div > div > div._aagv > img').get_attribute('src')\n",
    "  "
   ]
  },
  {
   "cell_type": "code",
   "execution_count": 25,
   "metadata": {},
   "outputs": [],
   "source": [
    "driver.find_element(By.XPATH,'//*[@id=\"mount_0_0_rQ\"]/div/div/div/div[1]/div/div/div/div[1]/div[1]/section/main/div[1]/section/div/div[2]/div[2]/div/article[1]/div/div[2]/div/div[1]/div[2]/div/button/div').click()"
   ]
  },
  {
   "cell_type": "code",
   "execution_count": 26,
   "metadata": {},
   "outputs": [
    {
     "data": {
      "text/plain": [
       "'https://scontent-ssn1-1.cdninstagram.com/v/t51.2885-15/295106248_1264682834069814_4433185105788034062_n.jpg?stp=dst-jpg_e35&cb=2d435ae8-ef10543b&_nc_ht=scontent-ssn1-1.cdninstagram.com&_nc_cat=106&_nc_ohc=2cd9KSY65fIAX_AnMYr&edm=AJ9x6zYBAAAA&ccb=7-5&ig_cache_key=Mjg4NjkwMTc2NjAwNjIyNTM5OA%3D%3D.2-ccb7-5&oh=00_AT8GNVZ0Kq4Cij8kvkBAd9v5CwU2Sv9Q6gKcDoi3xj76uQ&oe=62DF5BBD&_nc_sid=cff2a4'"
      ]
     },
     "execution_count": 26,
     "metadata": {},
     "output_type": "execute_result"
    }
   ],
   "source": [
    "driver.find_element(By.XPATH,'//*[@id=\"mount_0_0_rQ\"]/div/div/div/div[1]/div/div/div/div[1]/div[1]\\\n",
    "    /section/main/div[1]/section/div/div[2]/div[2]/div/article[1]/div/div[2]/div/div[1]/div[2]/div/\\\n",
    "        div/div/ul/li[3]/div/div/div/div/div[1]/img').get_attribute('src')"
   ]
  },
  {
   "cell_type": "code",
   "execution_count": 27,
   "metadata": {},
   "outputs": [],
   "source": [
    "driver.find_element(By.XPATH,'//*[@id=\"mount_0_0_rQ\"]/div/div/div/div[1]/div/div/div/div[1]/div[1]/section/main/div[1]/section/div/div[2]/div[2]/div/article[1]/div/div[2]/div/div[1]/div[2]/div/button[2]/div').click()"
   ]
  },
  {
   "cell_type": "code",
   "execution_count": null,
   "metadata": {},
   "outputs": [],
   "source": []
  }
 ],
 "metadata": {
  "kernelspec": {
   "display_name": "Python 3.9.12 ('base')",
   "language": "python",
   "name": "python3"
  },
  "language_info": {
   "codemirror_mode": {
    "name": "ipython",
    "version": 3
   },
   "file_extension": ".py",
   "mimetype": "text/x-python",
   "name": "python",
   "nbconvert_exporter": "python",
   "pygments_lexer": "ipython3",
   "version": "3.9.12"
  },
  "orig_nbformat": 4,
  "vscode": {
   "interpreter": {
    "hash": "f8c3b3a4f2fe0d4dd90b76fdb4f1c668e8b36810d893a620cb9dc7cc917f1afc"
   }
  }
 },
 "nbformat": 4,
 "nbformat_minor": 2
}
