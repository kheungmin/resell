{
 "cells": [
  {
   "cell_type": "code",
   "execution_count": 2,
   "metadata": {},
   "outputs": [],
   "source": [
    "import pymongo\n",
    "import pandas as pd\n",
    "import re"
   ]
  },
  {
   "cell_type": "code",
   "execution_count": 3,
   "metadata": {},
   "outputs": [],
   "source": [
    "user = 'team04'\n",
    "pw = '1111'\n",
    "host = 'ec2-54-95-8-243.ap-northeast-1.compute.amazonaws.com'\n",
    "client = pymongo.MongoClient(f'mongodb://{user}:{pw}@{host}:27017/')\n",
    "db = client.resell"
   ]
  },
  {
   "cell_type": "code",
   "execution_count": 4,
   "metadata": {},
   "outputs": [
    {
     "data": {
      "text/html": [
       "<div>\n",
       "<style scoped>\n",
       "    .dataframe tbody tr th:only-of-type {\n",
       "        vertical-align: middle;\n",
       "    }\n",
       "\n",
       "    .dataframe tbody tr th {\n",
       "        vertical-align: top;\n",
       "    }\n",
       "\n",
       "    .dataframe thead th {\n",
       "        text-align: right;\n",
       "    }\n",
       "</style>\n",
       "<table border=\"1\" class=\"dataframe\">\n",
       "  <thead>\n",
       "    <tr style=\"text-align: right;\">\n",
       "      <th></th>\n",
       "      <th>_id</th>\n",
       "      <th>news_title</th>\n",
       "      <th>news_time</th>\n",
       "    </tr>\n",
       "  </thead>\n",
       "  <tbody>\n",
       "    <tr>\n",
       "      <th>0</th>\n",
       "      <td>62df3dd76cb14be4413a9c21</td>\n",
       "      <td>\"오픈런으로 산 '샤넬백', 300만원이나 뚝 떨어졌다\" 한숨 [안혜원의 명품의세계]</td>\n",
       "      <td>2022/07/24</td>\n",
       "    </tr>\n",
       "    <tr>\n",
       "      <th>1</th>\n",
       "      <td>62df3dd76cb14be4413a9c22</td>\n",
       "      <td>13만원짜리 나이키 운동화, 3천만원까지 뛰게한 이녀석의 정체</td>\n",
       "      <td>2022/07/23</td>\n",
       "    </tr>\n",
       "    <tr>\n",
       "      <th>2</th>\n",
       "      <td>62df3dd76cb14be4413a9c23</td>\n",
       "      <td>351만원 신발이 2000만원?…'로또 운동화' 리셀가 껑충</td>\n",
       "      <td>2022/07/21</td>\n",
       "    </tr>\n",
       "    <tr>\n",
       "      <th>3</th>\n",
       "      <td>62df3dd76cb14be4413a9c24</td>\n",
       "      <td>‘X’ 전성시대…가격은? 콜라보의 정석</td>\n",
       "      <td>2022/07/21</td>\n",
       "    </tr>\n",
       "    <tr>\n",
       "      <th>4</th>\n",
       "      <td>62df3dd86cb14be4413a9c25</td>\n",
       "      <td>출근길 변호사도 회계사도…'디그' 없인 못살아요</td>\n",
       "      <td>2022/07/20</td>\n",
       "    </tr>\n",
       "    <tr>\n",
       "      <th>...</th>\n",
       "      <td>...</td>\n",
       "      <td>...</td>\n",
       "      <td>...</td>\n",
       "    </tr>\n",
       "    <tr>\n",
       "      <th>464</th>\n",
       "      <td>62df3de86cb14be4413a9df1</td>\n",
       "      <td>‘제1회 MK스포츠배 연예인 야구대회’, 본에스티스가 후원</td>\n",
       "      <td>2018/05/30</td>\n",
       "    </tr>\n",
       "    <tr>\n",
       "      <th>465</th>\n",
       "      <td>62df3de86cb14be4413a9df2</td>\n",
       "      <td>리미티드 에디션이라는 강력한 유혹 당신은 가지고 계시나요?</td>\n",
       "      <td>2018/05/15</td>\n",
       "    </tr>\n",
       "    <tr>\n",
       "      <th>466</th>\n",
       "      <td>62df3de86cb14be4413a9df3</td>\n",
       "      <td>`마블 리셀` 해도 너무한 거 아닌가요?</td>\n",
       "      <td>2018/05/09</td>\n",
       "    </tr>\n",
       "    <tr>\n",
       "      <th>467</th>\n",
       "      <td>62df3de86cb14be4413a9df4</td>\n",
       "      <td>“건강한 피부가 행복을”…김태진, 본에스티스 홍보대사 발탁</td>\n",
       "      <td>2018/05/01</td>\n",
       "    </tr>\n",
       "    <tr>\n",
       "      <th>468</th>\n",
       "      <td>62df3de86cb14be4413a9df5</td>\n",
       "      <td>“건강한 피부로 행복하게”…배동성, 본에스티스 홍보대사 발탁</td>\n",
       "      <td>2018/04/04</td>\n",
       "    </tr>\n",
       "  </tbody>\n",
       "</table>\n",
       "<p>469 rows × 3 columns</p>\n",
       "</div>"
      ],
      "text/plain": [
       "                          _id  \\\n",
       "0    62df3dd76cb14be4413a9c21   \n",
       "1    62df3dd76cb14be4413a9c22   \n",
       "2    62df3dd76cb14be4413a9c23   \n",
       "3    62df3dd76cb14be4413a9c24   \n",
       "4    62df3dd86cb14be4413a9c25   \n",
       "..                        ...   \n",
       "464  62df3de86cb14be4413a9df1   \n",
       "465  62df3de86cb14be4413a9df2   \n",
       "466  62df3de86cb14be4413a9df3   \n",
       "467  62df3de86cb14be4413a9df4   \n",
       "468  62df3de86cb14be4413a9df5   \n",
       "\n",
       "                                          news_title   news_time  \n",
       "0    \"오픈런으로 산 '샤넬백', 300만원이나 뚝 떨어졌다\" 한숨 [안혜원의 명품의세계]  2022/07/24  \n",
       "1                 13만원짜리 나이키 운동화, 3천만원까지 뛰게한 이녀석의 정체  2022/07/23  \n",
       "2                  351만원 신발이 2000만원?…'로또 운동화' 리셀가 껑충  2022/07/21  \n",
       "3                              ‘X’ 전성시대…가격은? 콜라보의 정석  2022/07/21  \n",
       "4                         출근길 변호사도 회계사도…'디그' 없인 못살아요  2022/07/20  \n",
       "..                                               ...         ...  \n",
       "464                 ‘제1회 MK스포츠배 연예인 야구대회’, 본에스티스가 후원  2018/05/30  \n",
       "465                 리미티드 에디션이라는 강력한 유혹 당신은 가지고 계시나요?  2018/05/15  \n",
       "466                           `마블 리셀` 해도 너무한 거 아닌가요?  2018/05/09  \n",
       "467                 “건강한 피부가 행복을”…김태진, 본에스티스 홍보대사 발탁  2018/05/01  \n",
       "468                “건강한 피부로 행복하게”…배동성, 본에스티스 홍보대사 발탁  2018/04/04  \n",
       "\n",
       "[469 rows x 3 columns]"
      ]
     },
     "execution_count": 4,
     "metadata": {},
     "output_type": "execute_result"
    }
   ],
   "source": [
    "df = pd.DataFrame(db.news.find())\n",
    "df"
   ]
  },
  {
   "cell_type": "code",
   "execution_count": 5,
   "metadata": {},
   "outputs": [
    {
     "name": "stdout",
     "output_type": "stream",
     "text": [
      "<class 'pandas.core.frame.DataFrame'>\n",
      "RangeIndex: 469 entries, 0 to 468\n",
      "Data columns (total 3 columns):\n",
      " #   Column      Non-Null Count  Dtype \n",
      "---  ------      --------------  ----- \n",
      " 0   _id         469 non-null    object\n",
      " 1   news_title  469 non-null    object\n",
      " 2   news_time   469 non-null    object\n",
      "dtypes: object(3)\n",
      "memory usage: 11.1+ KB\n"
     ]
    }
   ],
   "source": [
    "df.info()"
   ]
  },
  {
   "cell_type": "code",
   "execution_count": 6,
   "metadata": {},
   "outputs": [
    {
     "data": {
      "text/html": [
       "<div>\n",
       "<style scoped>\n",
       "    .dataframe tbody tr th:only-of-type {\n",
       "        vertical-align: middle;\n",
       "    }\n",
       "\n",
       "    .dataframe tbody tr th {\n",
       "        vertical-align: top;\n",
       "    }\n",
       "\n",
       "    .dataframe thead th {\n",
       "        text-align: right;\n",
       "    }\n",
       "</style>\n",
       "<table border=\"1\" class=\"dataframe\">\n",
       "  <thead>\n",
       "    <tr style=\"text-align: right;\">\n",
       "      <th></th>\n",
       "      <th>news_title</th>\n",
       "      <th>news_time</th>\n",
       "    </tr>\n",
       "  </thead>\n",
       "  <tbody>\n",
       "    <tr>\n",
       "      <th>0</th>\n",
       "      <td>\"오픈런으로 산 '샤넬백', 300만원이나 뚝 떨어졌다\" 한숨 [안혜원의 명품의세계]</td>\n",
       "      <td>2022/07/24</td>\n",
       "    </tr>\n",
       "    <tr>\n",
       "      <th>1</th>\n",
       "      <td>13만원짜리 나이키 운동화, 3천만원까지 뛰게한 이녀석의 정체</td>\n",
       "      <td>2022/07/23</td>\n",
       "    </tr>\n",
       "    <tr>\n",
       "      <th>2</th>\n",
       "      <td>351만원 신발이 2000만원?…'로또 운동화' 리셀가 껑충</td>\n",
       "      <td>2022/07/21</td>\n",
       "    </tr>\n",
       "    <tr>\n",
       "      <th>3</th>\n",
       "      <td>‘X’ 전성시대…가격은? 콜라보의 정석</td>\n",
       "      <td>2022/07/21</td>\n",
       "    </tr>\n",
       "    <tr>\n",
       "      <th>4</th>\n",
       "      <td>출근길 변호사도 회계사도…'디그' 없인 못살아요</td>\n",
       "      <td>2022/07/20</td>\n",
       "    </tr>\n",
       "  </tbody>\n",
       "</table>\n",
       "</div>"
      ],
      "text/plain": [
       "                                        news_title   news_time\n",
       "0  \"오픈런으로 산 '샤넬백', 300만원이나 뚝 떨어졌다\" 한숨 [안혜원의 명품의세계]  2022/07/24\n",
       "1               13만원짜리 나이키 운동화, 3천만원까지 뛰게한 이녀석의 정체  2022/07/23\n",
       "2                351만원 신발이 2000만원?…'로또 운동화' 리셀가 껑충  2022/07/21\n",
       "3                            ‘X’ 전성시대…가격은? 콜라보의 정석  2022/07/21\n",
       "4                       출근길 변호사도 회계사도…'디그' 없인 못살아요  2022/07/20"
      ]
     },
     "execution_count": 6,
     "metadata": {},
     "output_type": "execute_result"
    }
   ],
   "source": [
    "new_df = df.drop(columns=['_id'])\n",
    "new_df.head()"
   ]
  },
  {
   "cell_type": "code",
   "execution_count": 7,
   "metadata": {},
   "outputs": [
    {
     "name": "stdout",
     "output_type": "stream",
     "text": [
      "<class 'pandas.core.frame.DataFrame'>\n",
      "RangeIndex: 469 entries, 0 to 468\n",
      "Data columns (total 2 columns):\n",
      " #   Column      Non-Null Count  Dtype \n",
      "---  ------      --------------  ----- \n",
      " 0   news_title  469 non-null    object\n",
      " 1   news_time   469 non-null    object\n",
      "dtypes: object(2)\n",
      "memory usage: 7.5+ KB\n"
     ]
    }
   ],
   "source": [
    "new_df.info()"
   ]
  },
  {
   "cell_type": "code",
   "execution_count": 8,
   "metadata": {},
   "outputs": [],
   "source": [
    "def NewsTimePreprocessing(data):\n",
    "    data = data.replace('/', '-')\n",
    "    \n",
    "    return data"
   ]
  },
  {
   "cell_type": "code",
   "execution_count": 9,
   "metadata": {},
   "outputs": [
    {
     "data": {
      "text/html": [
       "<div>\n",
       "<style scoped>\n",
       "    .dataframe tbody tr th:only-of-type {\n",
       "        vertical-align: middle;\n",
       "    }\n",
       "\n",
       "    .dataframe tbody tr th {\n",
       "        vertical-align: top;\n",
       "    }\n",
       "\n",
       "    .dataframe thead th {\n",
       "        text-align: right;\n",
       "    }\n",
       "</style>\n",
       "<table border=\"1\" class=\"dataframe\">\n",
       "  <thead>\n",
       "    <tr style=\"text-align: right;\">\n",
       "      <th></th>\n",
       "      <th>news_title</th>\n",
       "      <th>news_time</th>\n",
       "    </tr>\n",
       "  </thead>\n",
       "  <tbody>\n",
       "    <tr>\n",
       "      <th>0</th>\n",
       "      <td>\"오픈런으로 산 '샤넬백', 300만원이나 뚝 떨어졌다\" 한숨 [안혜원의 명품의세계]</td>\n",
       "      <td>2022-07-24</td>\n",
       "    </tr>\n",
       "    <tr>\n",
       "      <th>1</th>\n",
       "      <td>13만원짜리 나이키 운동화, 3천만원까지 뛰게한 이녀석의 정체</td>\n",
       "      <td>2022-07-23</td>\n",
       "    </tr>\n",
       "    <tr>\n",
       "      <th>2</th>\n",
       "      <td>351만원 신발이 2000만원?…'로또 운동화' 리셀가 껑충</td>\n",
       "      <td>2022-07-21</td>\n",
       "    </tr>\n",
       "    <tr>\n",
       "      <th>3</th>\n",
       "      <td>‘X’ 전성시대…가격은? 콜라보의 정석</td>\n",
       "      <td>2022-07-21</td>\n",
       "    </tr>\n",
       "    <tr>\n",
       "      <th>4</th>\n",
       "      <td>출근길 변호사도 회계사도…'디그' 없인 못살아요</td>\n",
       "      <td>2022-07-20</td>\n",
       "    </tr>\n",
       "    <tr>\n",
       "      <th>...</th>\n",
       "      <td>...</td>\n",
       "      <td>...</td>\n",
       "    </tr>\n",
       "    <tr>\n",
       "      <th>464</th>\n",
       "      <td>‘제1회 MK스포츠배 연예인 야구대회’, 본에스티스가 후원</td>\n",
       "      <td>2018-05-30</td>\n",
       "    </tr>\n",
       "    <tr>\n",
       "      <th>465</th>\n",
       "      <td>리미티드 에디션이라는 강력한 유혹 당신은 가지고 계시나요?</td>\n",
       "      <td>2018-05-15</td>\n",
       "    </tr>\n",
       "    <tr>\n",
       "      <th>466</th>\n",
       "      <td>`마블 리셀` 해도 너무한 거 아닌가요?</td>\n",
       "      <td>2018-05-09</td>\n",
       "    </tr>\n",
       "    <tr>\n",
       "      <th>467</th>\n",
       "      <td>“건강한 피부가 행복을”…김태진, 본에스티스 홍보대사 발탁</td>\n",
       "      <td>2018-05-01</td>\n",
       "    </tr>\n",
       "    <tr>\n",
       "      <th>468</th>\n",
       "      <td>“건강한 피부로 행복하게”…배동성, 본에스티스 홍보대사 발탁</td>\n",
       "      <td>2018-04-04</td>\n",
       "    </tr>\n",
       "  </tbody>\n",
       "</table>\n",
       "<p>469 rows × 2 columns</p>\n",
       "</div>"
      ],
      "text/plain": [
       "                                          news_title   news_time\n",
       "0    \"오픈런으로 산 '샤넬백', 300만원이나 뚝 떨어졌다\" 한숨 [안혜원의 명품의세계]  2022-07-24\n",
       "1                 13만원짜리 나이키 운동화, 3천만원까지 뛰게한 이녀석의 정체  2022-07-23\n",
       "2                  351만원 신발이 2000만원?…'로또 운동화' 리셀가 껑충  2022-07-21\n",
       "3                              ‘X’ 전성시대…가격은? 콜라보의 정석  2022-07-21\n",
       "4                         출근길 변호사도 회계사도…'디그' 없인 못살아요  2022-07-20\n",
       "..                                               ...         ...\n",
       "464                 ‘제1회 MK스포츠배 연예인 야구대회’, 본에스티스가 후원  2018-05-30\n",
       "465                 리미티드 에디션이라는 강력한 유혹 당신은 가지고 계시나요?  2018-05-15\n",
       "466                           `마블 리셀` 해도 너무한 거 아닌가요?  2018-05-09\n",
       "467                 “건강한 피부가 행복을”…김태진, 본에스티스 홍보대사 발탁  2018-05-01\n",
       "468                “건강한 피부로 행복하게”…배동성, 본에스티스 홍보대사 발탁  2018-04-04\n",
       "\n",
       "[469 rows x 2 columns]"
      ]
     },
     "execution_count": 9,
     "metadata": {},
     "output_type": "execute_result"
    }
   ],
   "source": [
    "new_df['news_time'] = new_df['news_time'].apply(NewsTimePreprocessing)\n",
    "new_df"
   ]
  },
  {
   "cell_type": "code",
   "execution_count": 10,
   "metadata": {},
   "outputs": [
    {
     "name": "stdout",
     "output_type": "stream",
     "text": [
      "<class 'pandas.core.frame.DataFrame'>\n",
      "RangeIndex: 469 entries, 0 to 468\n",
      "Data columns (total 2 columns):\n",
      " #   Column      Non-Null Count  Dtype \n",
      "---  ------      --------------  ----- \n",
      " 0   news_title  469 non-null    object\n",
      " 1   news_time   469 non-null    object\n",
      "dtypes: object(2)\n",
      "memory usage: 7.5+ KB\n"
     ]
    }
   ],
   "source": [
    "new_df.info()"
   ]
  },
  {
   "cell_type": "code",
   "execution_count": 11,
   "metadata": {},
   "outputs": [
    {
     "data": {
      "text/plain": [
       "0     2022-07-24\n",
       "1     2022-07-23\n",
       "2     2022-07-21\n",
       "3     2022-07-21\n",
       "4     2022-07-20\n",
       "         ...    \n",
       "464   2018-05-30\n",
       "465   2018-05-15\n",
       "466   2018-05-09\n",
       "467   2018-05-01\n",
       "468   2018-04-04\n",
       "Name: news_time, Length: 469, dtype: datetime64[ns]"
      ]
     },
     "execution_count": 11,
     "metadata": {},
     "output_type": "execute_result"
    }
   ],
   "source": [
    "new_df['news_time'] = pd.to_datetime(new_df['news_time'])\n",
    "new_df['news_time']"
   ]
  },
  {
   "cell_type": "code",
   "execution_count": 12,
   "metadata": {},
   "outputs": [
    {
     "name": "stdout",
     "output_type": "stream",
     "text": [
      "<class 'pandas.core.frame.DataFrame'>\n",
      "RangeIndex: 469 entries, 0 to 468\n",
      "Data columns (total 2 columns):\n",
      " #   Column      Non-Null Count  Dtype         \n",
      "---  ------      --------------  -----         \n",
      " 0   news_title  469 non-null    object        \n",
      " 1   news_time   469 non-null    datetime64[ns]\n",
      "dtypes: datetime64[ns](1), object(1)\n",
      "memory usage: 7.5+ KB\n"
     ]
    }
   ],
   "source": [
    "new_df.info()"
   ]
  },
  {
   "cell_type": "code",
   "execution_count": 13,
   "metadata": {},
   "outputs": [
    {
     "data": {
      "text/html": [
       "<div>\n",
       "<style scoped>\n",
       "    .dataframe tbody tr th:only-of-type {\n",
       "        vertical-align: middle;\n",
       "    }\n",
       "\n",
       "    .dataframe tbody tr th {\n",
       "        vertical-align: top;\n",
       "    }\n",
       "\n",
       "    .dataframe thead th {\n",
       "        text-align: right;\n",
       "    }\n",
       "</style>\n",
       "<table border=\"1\" class=\"dataframe\">\n",
       "  <thead>\n",
       "    <tr style=\"text-align: right;\">\n",
       "      <th></th>\n",
       "      <th>news_title</th>\n",
       "      <th>news_time</th>\n",
       "    </tr>\n",
       "  </thead>\n",
       "  <tbody>\n",
       "    <tr>\n",
       "      <th>0</th>\n",
       "      <td>\"오픈런으로 산 '샤넬백', 300만원이나 뚝 떨어졌다\" 한숨 [안혜원의 명품의세계]</td>\n",
       "      <td>2022</td>\n",
       "    </tr>\n",
       "    <tr>\n",
       "      <th>1</th>\n",
       "      <td>13만원짜리 나이키 운동화, 3천만원까지 뛰게한 이녀석의 정체</td>\n",
       "      <td>2022</td>\n",
       "    </tr>\n",
       "    <tr>\n",
       "      <th>2</th>\n",
       "      <td>351만원 신발이 2000만원?…'로또 운동화' 리셀가 껑충</td>\n",
       "      <td>2022</td>\n",
       "    </tr>\n",
       "    <tr>\n",
       "      <th>3</th>\n",
       "      <td>‘X’ 전성시대…가격은? 콜라보의 정석</td>\n",
       "      <td>2022</td>\n",
       "    </tr>\n",
       "    <tr>\n",
       "      <th>4</th>\n",
       "      <td>출근길 변호사도 회계사도…'디그' 없인 못살아요</td>\n",
       "      <td>2022</td>\n",
       "    </tr>\n",
       "    <tr>\n",
       "      <th>...</th>\n",
       "      <td>...</td>\n",
       "      <td>...</td>\n",
       "    </tr>\n",
       "    <tr>\n",
       "      <th>464</th>\n",
       "      <td>‘제1회 MK스포츠배 연예인 야구대회’, 본에스티스가 후원</td>\n",
       "      <td>2018</td>\n",
       "    </tr>\n",
       "    <tr>\n",
       "      <th>465</th>\n",
       "      <td>리미티드 에디션이라는 강력한 유혹 당신은 가지고 계시나요?</td>\n",
       "      <td>2018</td>\n",
       "    </tr>\n",
       "    <tr>\n",
       "      <th>466</th>\n",
       "      <td>`마블 리셀` 해도 너무한 거 아닌가요?</td>\n",
       "      <td>2018</td>\n",
       "    </tr>\n",
       "    <tr>\n",
       "      <th>467</th>\n",
       "      <td>“건강한 피부가 행복을”…김태진, 본에스티스 홍보대사 발탁</td>\n",
       "      <td>2018</td>\n",
       "    </tr>\n",
       "    <tr>\n",
       "      <th>468</th>\n",
       "      <td>“건강한 피부로 행복하게”…배동성, 본에스티스 홍보대사 발탁</td>\n",
       "      <td>2018</td>\n",
       "    </tr>\n",
       "  </tbody>\n",
       "</table>\n",
       "<p>469 rows × 2 columns</p>\n",
       "</div>"
      ],
      "text/plain": [
       "                                          news_title  news_time\n",
       "0    \"오픈런으로 산 '샤넬백', 300만원이나 뚝 떨어졌다\" 한숨 [안혜원의 명품의세계]       2022\n",
       "1                 13만원짜리 나이키 운동화, 3천만원까지 뛰게한 이녀석의 정체       2022\n",
       "2                  351만원 신발이 2000만원?…'로또 운동화' 리셀가 껑충       2022\n",
       "3                              ‘X’ 전성시대…가격은? 콜라보의 정석       2022\n",
       "4                         출근길 변호사도 회계사도…'디그' 없인 못살아요       2022\n",
       "..                                               ...        ...\n",
       "464                 ‘제1회 MK스포츠배 연예인 야구대회’, 본에스티스가 후원       2018\n",
       "465                 리미티드 에디션이라는 강력한 유혹 당신은 가지고 계시나요?       2018\n",
       "466                           `마블 리셀` 해도 너무한 거 아닌가요?       2018\n",
       "467                 “건강한 피부가 행복을”…김태진, 본에스티스 홍보대사 발탁       2018\n",
       "468                “건강한 피부로 행복하게”…배동성, 본에스티스 홍보대사 발탁       2018\n",
       "\n",
       "[469 rows x 2 columns]"
      ]
     },
     "execution_count": 13,
     "metadata": {},
     "output_type": "execute_result"
    }
   ],
   "source": [
    "# 년\n",
    "new_df['news_time'] = new_df['news_time'].dt.year\n",
    "new_df"
   ]
  },
  {
   "cell_type": "code",
   "execution_count": 14,
   "metadata": {},
   "outputs": [
    {
     "data": {
      "text/plain": [
       "2021    226\n",
       "2022    165\n",
       "2020     51\n",
       "2019     15\n",
       "2018     12\n",
       "Name: news_time, dtype: int64"
      ]
     },
     "execution_count": 14,
     "metadata": {},
     "output_type": "execute_result"
    }
   ],
   "source": [
    "new_df['news_time'].value_counts()"
   ]
  },
  {
   "cell_type": "code",
   "execution_count": 15,
   "metadata": {},
   "outputs": [
    {
     "name": "stdout",
     "output_type": "stream",
     "text": [
      "<class 'pandas.core.frame.DataFrame'>\n",
      "RangeIndex: 469 entries, 0 to 468\n",
      "Data columns (total 2 columns):\n",
      " #   Column      Non-Null Count  Dtype \n",
      "---  ------      --------------  ----- \n",
      " 0   news_title  469 non-null    object\n",
      " 1   news_time   469 non-null    int64 \n",
      "dtypes: int64(1), object(1)\n",
      "memory usage: 7.5+ KB\n"
     ]
    }
   ],
   "source": [
    "new_df.info()"
   ]
  },
  {
   "cell_type": "code",
   "execution_count": 16,
   "metadata": {},
   "outputs": [
    {
     "name": "stdout",
     "output_type": "stream",
     "text": [
      "<class 'pandas.core.frame.DataFrame'>\n",
      "RangeIndex: 469 entries, 0 to 468\n",
      "Data columns (total 2 columns):\n",
      " #   Column      Non-Null Count  Dtype  \n",
      "---  ------      --------------  -----  \n",
      " 0   news_title  469 non-null    object \n",
      " 1   news_time   469 non-null    float64\n",
      "dtypes: float64(1), object(1)\n",
      "memory usage: 7.5+ KB\n"
     ]
    }
   ],
   "source": [
    "new_df['news_time'] = new_df['news_time'].astype(float)\n",
    "new_df.info()"
   ]
  },
  {
   "cell_type": "code",
   "execution_count": 56,
   "metadata": {},
   "outputs": [],
   "source": [
    "import pandas as pd\n",
    "import numpy as np\n",
    "import matplotlib.pyplot as plt\n",
    "import seaborn as sns"
   ]
  },
  {
   "cell_type": "code",
   "execution_count": 57,
   "metadata": {},
   "outputs": [
    {
     "data": {
      "image/png": "[encoded data removed]",
      "text/plain": [
       "<Figure size 432x288 with 1 Axes>"
      ]
     },
     "metadata": {
      "needs_background": "light"
     },
     "output_type": "display_data"
    }
   ],
   "source": [
    "sns.countplot(x='news_time', data=new_df)\n",
    "plt.show()"
   ]
  },
  {
   "cell_type": "code",
   "execution_count": 58,
   "metadata": {},
   "outputs": [
    {
     "name": "stderr",
     "output_type": "stream",
     "text": [
      "C:\\Users\\Public\\Documents\\ESTsoft\\CreatorTemp\\ipykernel_22544\\1110086526.py:7: UserWarning: color is redundantly defined by the 'color' keyword argument and the fmt string \"ys-\" (-> color='y'). The keyword argument will take precedence.\n",
      "  plt.plot(year, count, 'ys-', color='r')\n"
     ]
    },
    {
     "data": {
      "image/png": "[encoded data removed]",
      "text/plain": [
       "<Figure size 432x288 with 1 Axes>"
      ]
     },
     "metadata": {
      "needs_background": "light"
     },
     "output_type": "display_data"
    }
   ],
   "source": [
    "year = [2018,2019,2020,2021,2022]\n",
    "count = [12, 15, 51, 226, 165]\n",
    "\n",
    "plt.title('NewsData')\n",
    "plt.xlabel('YEAR')\n",
    "plt.ylabel('count')\n",
    "plt.plot(year, count, 'ys-', color='r')\n",
    "plt.xticks(year)\n",
    "plt.show()"
   ]
  },
  {
   "cell_type": "code",
   "execution_count": null,
   "metadata": {},
   "outputs": [],
   "source": []
  }
 ],
 "metadata": {
  "kernelspec": {
   "display_name": "Python 3.9.12 ('base')",
   "language": "python",
   "name": "python3"
  },
  "language_info": {
   "codemirror_mode": {
    "name": "ipython",
    "version": 3
   },
   "file_extension": ".py",
   "mimetype": "text/x-python",
   "name": "python",
   "nbconvert_exporter": "python",
   "pygments_lexer": "ipython3",
   "version": "3.9.12"
  },
  "orig_nbformat": 4,
  "vscode": {
   "interpreter": {
    "hash": "f8c3b3a4f2fe0d4dd90b76fdb4f1c668e8b36810d893a620cb9dc7cc917f1afc"
   }
  }
 },
 "nbformat": 4,
 "nbformat_minor": 2
}
