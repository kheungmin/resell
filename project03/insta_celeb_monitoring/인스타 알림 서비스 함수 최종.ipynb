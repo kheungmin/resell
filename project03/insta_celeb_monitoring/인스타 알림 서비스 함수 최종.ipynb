{
 "cells": [
  {
   "cell_type": "code",
   "execution_count": 1,
   "id": "a84fdd83",
   "metadata": {},
   "outputs": [],
   "source": [
    "# 텐서플로우 관련\n",
    "import tensorflow as tf\n",
    "import tensorflow_hub as hub\n",
    "\n",
    "# 이미지 다운로드\n",
    "import matplotlib.pyplot as plt\n",
    "import tempfile\n",
    "from six.moves.urllib.request import urlopen\n",
    "from six import BytesIO\n",
    "\n",
    "import pandas as pd\n",
    "\n",
    "# F이미지에 그림 그리기\n",
    "import numpy as np\n",
    "from PIL import Image\n",
    "from PIL import ImageColor\n",
    "from PIL import ImageDraw\n",
    "from PIL import ImageFont\n",
    "from PIL import ImageOps\n",
    "\n",
    "# 시간 관련\n",
    "import time\n",
    "\n",
    "import pymongo"
   ]
  },
  {
   "cell_type": "code",
   "execution_count": 2,
   "id": "fe2fa83f",
   "metadata": {},
   "outputs": [
    {
     "name": "stdout",
     "output_type": "stream",
     "text": [
      "INFO:tensorflow:Saver not created because there are no variables in the graph to restore\n"
     ]
    },
    {
     "name": "stderr",
     "output_type": "stream",
     "text": [
      "INFO:tensorflow:Saver not created because there are no variables in the graph to restore\n"
     ]
    }
   ],
   "source": [
    "module_handle = \"https://tfhub.dev/google/faster_rcnn/openimages_v4/inception_resnet_v2/1\"\n",
    "detector = hub.load(module_handle).signatures['default']"
   ]
  },
  {
   "cell_type": "code",
   "execution_count": 3,
   "id": "b850d50b",
   "metadata": {},
   "outputs": [],
   "source": [
    "# 이미지 보여 주기\n",
    "\n",
    "def display_image(image):\n",
    "    fig = plt.figure(figsize=(20, 15))\n",
    "    plt.grid(False)\n",
    "    plt.imshow(image)\n",
    "\n",
    "\n",
    "# url \n",
    "def download_and_resize_image(url,display=False):\n",
    "    _, filename = tempfile.mkstemp(suffix=\".jpg\")\n",
    "    response = urlopen(url)\n",
    "    image_data = response.read()\n",
    "    image_data = BytesIO(image_data)\n",
    "    pil_image = Image.open(image_data)\n",
    "    pil_image = ImageOps.fit(pil_image, (pil_image.size[0], pil_image.size[1]), Image.ANTIALIAS)\n",
    "    pil_image_rgb = pil_image.convert(\"RGB\")\n",
    "    pil_image_rgb.save(filename, format=\"JPEG\", quality=90)\n",
    "    print(\"Image downloaded to %s.\" % filename)\n",
    "    if display:\n",
    "        display_image(pil_image)\n",
    "    return filename\n",
    "\n",
    "\n",
    "\n",
    "\n",
    "def draw_bounding_box_on_image(image,\n",
    "                               ymin,\n",
    "                               xmin,\n",
    "                               ymax,\n",
    "                               xmax,\n",
    "                               color,\n",
    "                               font,\n",
    "                               thickness=4,\n",
    "                               display_str_list=()):\n",
    "    \n",
    "    \n",
    "    \"\"\"Adds a bounding box to an image.\"\"\"\n",
    "    draw = ImageDraw.Draw(image)\n",
    "    im_width, im_height = image.size\n",
    "    (left, right, top, bottom) = (xmin * im_width, xmax * im_width,\n",
    "                                ymin * im_height, ymax * im_height)\n",
    "    draw.line([(left, top), (left, bottom), (right, bottom), (right, top),\n",
    "             (left, top)],\n",
    "            width=thickness,\n",
    "            fill=color)\n",
    "\n",
    "  # If the total height of the display strings added to the top of the bounding\n",
    "  # box exceeds the top of the image, stack the strings below the bounding box\n",
    "  # instead of above.\n",
    "    display_str_heights = [font.getsize(ds)[1] for ds in display_str_list]\n",
    "  # Each display_str has a top and bottom margin of 0.05x.\n",
    "    total_display_str_height = (1 + 2 * 0.05) * sum(display_str_heights)\n",
    "\n",
    "    if top > total_display_str_height:\n",
    "        text_bottom = top\n",
    "    else:\n",
    "        text_bottom = top + total_display_str_height\n",
    "  # Reverse list and print from bottom to top.\n",
    "\n",
    "    \n",
    "    for display_str in display_str_list[::-1]:\n",
    "        text_width, text_height = font.getsize(display_str)\n",
    "        margin = np.ceil(0.05 * text_height)\n",
    "        draw.rectangle([(left, text_bottom - text_height - 2 * margin),\n",
    "                    (left + text_width, text_bottom)],\n",
    "                   fill=color)\n",
    "        draw.text((left + margin, text_bottom - text_height - margin),\n",
    "              display_str,\n",
    "              fill=\"black\",\n",
    "              font=font)\n",
    "        text_bottom -= text_height - 2 * margin\n",
    "\n",
    "\n",
    "def draw_boxes(image, boxes, class_names, scores, max_boxes=10, min_score=0.1):\n",
    "    \"\"\"Overlay labeled boxes on an image with formatted scores and label names.\"\"\"\n",
    "    colors = list(ImageColor.colormap.values())\n",
    "\n",
    "    try:\n",
    "        font = ImageFont.truetype(\"/usr/share/fonts/truetype/liberation/LiberationSansNarrow-Regular.ttf\",\n",
    "                              25)\n",
    "    except IOError:\n",
    "        print(\"Font not found, using default font.\")\n",
    "        font = ImageFont.load_default()\n",
    "\n",
    "    for i in range(min(boxes.shape[0], max_boxes)):\n",
    "        if scores[i] >= min_score:\n",
    "            ymin, xmin, ymax, xmax = tuple(boxes[i])\n",
    "            display_str = \"{}: {}%\".format(class_names[i].decode(\"ascii\"),\n",
    "                                     int(100 * scores[i]))\n",
    "            color = colors[hash(class_names[i]) % len(colors)]\n",
    "            image_pil = Image.fromarray(np.uint8(image)).convert(\"RGB\")\n",
    "            draw_bounding_box_on_image(\n",
    "          image_pil,\n",
    "          ymin,\n",
    "          xmin,\n",
    "          ymax,\n",
    "          xmax,\n",
    "          color,\n",
    "          font,\n",
    "          display_str_list=[display_str])\n",
    "            np.copyto(image, np.array(image_pil))\n",
    "    return image"
   ]
  },
  {
   "cell_type": "code",
   "execution_count": 4,
   "id": "bc81bade",
   "metadata": {},
   "outputs": [],
   "source": [
    "def load_img(path):\n",
    "    img = tf.io.read_file(path)\n",
    "    img = tf.image.decode_jpeg(img, channels=3)\n",
    "    return img\n",
    "\n",
    "\n",
    "def run_detector(detector, path):\n",
    "    \n",
    "    img = load_img(path)\n",
    "\n",
    "    converted_img  = tf.image.convert_image_dtype(img, tf.float32)[tf.newaxis, ...]\n",
    "    start_time = time.time()\n",
    "    result = detector(converted_img)\n",
    "    end_time = time.time()\n",
    "    \n",
    "    global result1\n",
    "\n",
    "    result1 = {key:value.numpy() for key,value in result.items()}\n",
    "    \n",
    "    \n",
    "\n",
    "    print(\"Found %d objects.\" % len(result[\"detection_scores\"]))\n",
    "    print(\"Inference time: \", end_time-start_time)\n",
    "    print(converted_img.shape)\n",
    "\n",
    "    image_with_boxes = draw_boxes(\n",
    "    img.numpy(), result1[\"detection_boxes\"],\n",
    "    result1[\"detection_class_entities\"], result1[\"detection_scores\"])"
   ]
  },
  {
   "cell_type": "code",
   "execution_count": 5,
   "id": "82517be5",
   "metadata": {},
   "outputs": [],
   "source": [
    "# 인스타그램 사진 불러오고 저장\n",
    "\n",
    "def insta_picture(image_url, save_path):\n",
    "    downloaded_image_path = download_and_resize_image(image_url, False)\n",
    "    \n",
    "    run_detector(detector, downloaded_image_path)\n",
    "    \n",
    "    result_final = pd.DataFrame(result1[\"detection_boxes\"])\n",
    "    result_final.columns = [\"ymin\", \"xmin\", \"ymax\", \"xmax\"]\n",
    "    img_color = Image.open(downloaded_image_path)\n",
    "    result_final[\"xmin\"] = round(result_final[\"xmin\"]*img_color.size[0])\n",
    "    result_final[\"xmax\"] = round(result_final[\"xmax\"]*img_color.size[0])\n",
    "    result_final[\"ymin\"] = round(result_final[\"ymin\"]*img_color.size[1])\n",
    "    result_final[\"ymax\"] = round(result_final[\"ymax\"]*img_color.size[1])\n",
    "    result_final_array = result_final.values\n",
    "    \n",
    "\n",
    "    empty_df = pd.DataFrame(columns = [\"ymin\", \"xmin\", \"ymax\", \"xmax\", \"score\"])\n",
    "\n",
    "    for i in range(min(result1[\"detection_boxes\"].shape[0], 10)):\n",
    "        if result1[\"detection_class_entities\"][i] == b'Footwear':\n",
    "            if result1[\"detection_scores\"][i] > 0.1:\n",
    "                ymin, xmin, ymax, xmax = tuple(result_final_array[i])\n",
    "                empty_df.loc[i] = [ymin, xmin, ymax, xmax, result1[\"detection_scores\"][i]]\n",
    "            \n",
    "    empty_df = empty_df.sort_values(by=\"score\", ascending=False).reset_index(drop=True)\n",
    "    \n",
    "    empty_df = empty_df.astype({'ymin':'int'})\n",
    "    empty_df = empty_df.astype({'xmin':'int'})\n",
    "    empty_df = empty_df.astype({'ymax':'int'})\n",
    "    empty_df = empty_df.astype({'xmax':'int'})\n",
    "    \n",
    "    try:\n",
    "        xmin = empty_df.loc[0, \"xmin\"]\n",
    "        ymin = empty_df.loc[0, \"ymin\"]\n",
    "        xmax = empty_df.loc[0, \"xmax\"]\n",
    "        ymax = empty_df.loc[0, \"ymax\"]\n",
    "        \n",
    "        croppedImage=img_color.crop((xmin, ymin, xmax, ymax))\n",
    "        croppedImage.save(f\"{save_path}.png\", 'png')\n",
    "        \n",
    "    except (ValueError, KeyError):\n",
    "        pass"
   ]
  },
  {
   "cell_type": "markdown",
   "id": "c0f17b0a",
   "metadata": {},
   "source": [
    "(1) 앞의 함수 정의 후,\n",
    "\n",
    "insta_picture(\"https://kream-phinf.pstatic.net/MjAyMjA3MTNfMjg3/MDAxNjU3NjkyNzg1MDkz.tvSfFyMTUKUUpWAGkEUWD2BKZVzupuKrYS5QqI8kf4gg._AHnLfYmYT02iE2le1ZrRyYBE-cbFuX-nnX1DJm8Ymgg.JPEG/p_423401e117a141a09b2ba332b9c20266.jpeg?type=l\", save_path)로 사용"
   ]
  },
  {
   "cell_type": "code",
   "execution_count": 15,
   "id": "ef8e739a",
   "metadata": {},
   "outputs": [],
   "source": [
    "user = 'team04'\n",
    "pw = '1111'\n",
    "host = 'ec2-54-95-8-243.ap-northeast-1.compute.amazonaws.com'\n",
    "client = pymongo.MongoClient(f'mongodb://{user}:{pw}@{host}:27017/')\n",
    "db = client.resell"
   ]
  },
  {
   "cell_type": "code",
   "execution_count": 21,
   "id": "974e1973",
   "metadata": {},
   "outputs": [
    {
     "data": {
      "text/html": [
       "<div>\n",
       "<style scoped>\n",
       "    .dataframe tbody tr th:only-of-type {\n",
       "        vertical-align: middle;\n",
       "    }\n",
       "\n",
       "    .dataframe tbody tr th {\n",
       "        vertical-align: top;\n",
       "    }\n",
       "\n",
       "    .dataframe thead th {\n",
       "        text-align: right;\n",
       "    }\n",
       "</style>\n",
       "<table border=\"1\" class=\"dataframe\">\n",
       "  <thead>\n",
       "    <tr style=\"text-align: right;\">\n",
       "      <th></th>\n",
       "      <th>img_url</th>\n",
       "    </tr>\n",
       "  </thead>\n",
       "  <tbody>\n",
       "    <tr>\n",
       "      <th>0</th>\n",
       "      <td>https://scontent-nrt1-1.cdninstagram.com/v/t51...</td>\n",
       "    </tr>\n",
       "    <tr>\n",
       "      <th>1</th>\n",
       "      <td>https://scontent-nrt1-1.cdninstagram.com/v/t51...</td>\n",
       "    </tr>\n",
       "    <tr>\n",
       "      <th>2</th>\n",
       "      <td>https://scontent-nrt1-1.cdninstagram.com/v/t51...</td>\n",
       "    </tr>\n",
       "  </tbody>\n",
       "</table>\n",
       "</div>"
      ],
      "text/plain": [
       "                                             img_url\n",
       "0  https://scontent-nrt1-1.cdninstagram.com/v/t51...\n",
       "1  https://scontent-nrt1-1.cdninstagram.com/v/t51...\n",
       "2  https://scontent-nrt1-1.cdninstagram.com/v/t51..."
      ]
     },
     "execution_count": 21,
     "metadata": {},
     "output_type": "execute_result"
    }
   ],
   "source": [
    "df = pd.DataFrame(db.insta.find({'new': 1}, {'_id': 0, 'img_url': 1}))\n",
    "df"
   ]
  },
  {
   "cell_type": "code",
   "execution_count": 31,
   "id": "24594784",
   "metadata": {},
   "outputs": [
    {
     "data": {
      "text/plain": [
       "['https://scontent-nrt1-1.cdninstagram.com/v/t51.2885-15/295963742_1098282974113388_6318950424070481537_n.jpg?stp=dst-jpg_e15_s480x480&cb=2d435ae8-ef10543b&_nc_ht=scontent-nrt1-1.cdninstagram.com&_nc_cat=108&_nc_ohc=fAhBqp9gdgYAX-rBGzX&edm=ALQROFkBAAAA&ccb=7-5&ig_cache_key=Mjg5MDc2OTY0MjE5ODcwMDk3Ng%3D%3D.2-ccb7-5&oh=00_AT_pVvqaC9IQlUDuTlSqhoQdjjCxKWFRsrQU_MYm5i-uiQ&oe=62E73897&_nc_sid=30a2ef',\n",
       " 'https://scontent-nrt1-1.cdninstagram.com/v/t51.2885-15/295773272_4709811405787607_6546210025068060674_n.jpg?stp=dst-jpg_e35&cb=2d435ae8-ef10543b&_nc_ht=scontent-nrt1-1.cdninstagram.com&_nc_cat=111&_nc_ohc=2IsLZrxuGBMAX8J0SST&edm=ALQROFkBAAAA&ccb=7-5&ig_cache_key=Mjg5MDc3MjQxMTg5MDU4NTAwOQ%3D%3D.2-ccb7-5&oh=00_AT8duQZLI5Vkiyy0tmQt-jmOvFxPDFIDO1cVwcjCZ8unKw&oe=62E6E161&_nc_sid=30a2ef',\n",
       " 'https://scontent-nrt1-1.cdninstagram.com/v/t51.2885-15/295707628_626856045449042_2322377478982896820_n.jpg?stp=dst-jpg_e35&cb=2d435ae8-ef10543b&_nc_ht=scontent-nrt1-1.cdninstagram.com&_nc_cat=102&_nc_ohc=c9rDG5ibNrQAX__sw-P&edm=ALQROFkBAAAA&ccb=7-5&ig_cache_key=Mjg5MDc3MjQxMTg4MjE4MDUxMA%3D%3D.2-ccb7-5&oh=00_AT-s8DM-Xoti7QKjxhe4EHydhZ4Bam4SbshXKfmd4iqPbw&oe=62E6A3DC&_nc_sid=30a2ef']"
      ]
     },
     "execution_count": 31,
     "metadata": {},
     "output_type": "execute_result"
    }
   ],
   "source": [
    "list(df['img_url'])"
   ]
  },
  {
   "cell_type": "code",
   "execution_count": 32,
   "id": "7f8c9fac",
   "metadata": {},
   "outputs": [
    {
     "name": "stdout",
     "output_type": "stream",
     "text": [
      "1\n",
      "Image downloaded to C:\\Users\\yhn03\\AppData\\Local\\Temp\\tmpcnxcmc0q.jpg.\n",
      "Found 100 objects.\n",
      "Inference time:  5.503957986831665\n",
      "(1, 404, 320, 3)\n",
      "Font not found, using default font.\n",
      "2\n"
     ]
    }
   ],
   "source": [
    "insta_picture(df.loc[2, 'img_url'], 'second')"
   ]
  },
  {
   "cell_type": "code",
   "execution_count": 23,
   "id": "dfa05058",
   "metadata": {},
   "outputs": [
    {
     "name": "stdout",
     "output_type": "stream",
     "text": [
      "1\n",
      "Image downloaded to C:\\Users\\yhn03\\AppData\\Local\\Temp\\tmp0ahoxlu6.jpg.\n",
      "Found 100 objects.\n",
      "Inference time:  5.18159031867981\n",
      "(1, 480, 480, 3)\n",
      "Font not found, using default font.\n",
      "2\n"
     ]
    }
   ],
   "source": [
    "for idx, row in df.iterrows():\n",
    "    img_url = row['img_url']\n",
    "    insta_picture(img_url, 'first')\n",
    "    break"
   ]
  },
  {
   "cell_type": "code",
   "execution_count": 24,
   "id": "96c633d5",
   "metadata": {},
   "outputs": [],
   "source": [
    "# 이미지 조정\n",
    "\n",
    "def image_resize(save_path):\n",
    "    im = Image.open(f'{save_path}.png')\n",
    "    im = im.resize((100, 100))\n",
    "    im.save(f'{save_path}.png')"
   ]
  },
  {
   "cell_type": "markdown",
   "id": "113319a1",
   "metadata": {},
   "source": [
    "(2) 앞의 함수 정의 후,\n",
    "image_resize(save_path)로 사용"
   ]
  },
  {
   "cell_type": "code",
   "execution_count": 33,
   "id": "763f16df",
   "metadata": {},
   "outputs": [],
   "source": [
    "image_resize('second')"
   ]
  },
  {
   "cell_type": "code",
   "execution_count": 26,
   "id": "49045fa3",
   "metadata": {},
   "outputs": [],
   "source": [
    "import cv2\n",
    "from tensorflow.keras.models import load_model\n",
    "import numpy as np\n",
    "\n",
    "def model_predict(save_path):\n",
    "    model = load_model('objection_detection_100_12.h5')\n",
    "    image = cv2.imread(f\"{save_path}.png\")\n",
    "    image = cv2.cvtColor(image, cv2.COLOR_BGR2RGB)\n",
    "    test_data = image / 255.0\n",
    "    pred = model.predict(test_data[np.newaxis, ...])\n",
    "    list = [\"555088-105\", \"555088-134\", \"DM7866-140\", \"slipper\"]\n",
    "    print(list[np.argmax(pred)])"
   ]
  },
  {
   "cell_type": "markdown",
   "id": "e10619b2",
   "metadata": {},
   "source": [
    "(3) 앞의 함수 정의 후,\n",
    "model_predict(save_path)로 사용하면 모델 이름 추출"
   ]
  },
  {
   "cell_type": "code",
   "execution_count": 34,
   "id": "68f85b6c",
   "metadata": {},
   "outputs": [
    {
     "name": "stdout",
     "output_type": "stream",
     "text": [
      "1/1 [==============================] - 0s 58ms/step\n",
      "slipper\n"
     ]
    }
   ],
   "source": [
    "model_predict('second')"
   ]
  },
  {
   "cell_type": "code",
   "execution_count": null,
   "id": "9b0a844e",
   "metadata": {},
   "outputs": [],
   "source": [
    "db.insta.update()"
   ]
  }
 ],
 "metadata": {
  "kernelspec": {
   "display_name": "Python 3.8.8 ('base')",
   "language": "python",
   "name": "python3"
  },
  "language_info": {
   "codemirror_mode": {
    "name": "ipython",
    "version": 3
   },
   "file_extension": ".py",
   "mimetype": "text/x-python",
   "name": "python",
   "nbconvert_exporter": "python",
   "pygments_lexer": "ipython3",
   "version": "3.8.8"
  },
  "toc": {
   "base_numbering": 1,
   "nav_menu": {},
   "number_sections": true,
   "sideBar": true,
   "skip_h1_title": false,
   "title_cell": "Table of Contents",
   "title_sidebar": "Contents",
   "toc_cell": false,
   "toc_position": {},
   "toc_section_display": true,
   "toc_window_display": false
  },
  "varInspector": {
   "cols": {
    "lenName": 16,
    "lenType": 16,
    "lenVar": 40
   },
   "kernels_config": {
    "python": {
     "delete_cmd_postfix": "",
     "delete_cmd_prefix": "del ",
     "library": "var_list.py",
     "varRefreshCmd": "print(var_dic_list())"
    },
    "r": {
     "delete_cmd_postfix": ") ",
     "delete_cmd_prefix": "rm(",
     "library": "var_list.r",
     "varRefreshCmd": "cat(var_dic_list()) "
    }
   },
   "types_to_exclude": [
    "module",
    "function",
    "builtin_function_or_method",
    "instance",
    "_Feature"
   ],
   "window_display": false
  },
  "vscode": {
   "interpreter": {
    "hash": "d2644f935bdce85508db0f6f53845968e25b911a8ed1edcfd9df60e5e7f34e68"
   }
  }
 },
 "nbformat": 4,
 "nbformat_minor": 5
}
