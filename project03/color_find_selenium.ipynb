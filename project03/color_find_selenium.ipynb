{
 "cells": [
  {
   "cell_type": "code",
   "execution_count": 986,
   "id": "cc9ae1a9",
   "metadata": {},
   "outputs": [],
   "source": [
    "import pandas as pd\n",
    "import time\n",
    "\n",
    "from selenium import webdriver\n",
    "from selenium.webdriver.chrome.service import Service\n",
    "from webdriver_manager.chrome import ChromeDriverManager\n",
    "from selenium.webdriver.common.by import By\n",
    "from selenium.webdriver.support.ui import WebDriverWait\n",
    "from selenium.webdriver.support import expected_conditions as EC"
   ]
  },
  {
   "cell_type": "code",
   "execution_count": 987,
   "id": "d4017acf",
   "metadata": {},
   "outputs": [],
   "source": [
    "file = 'cluster_color.csv'\n",
    "df = pd.read_csv(file, index_col=0)"
   ]
  },
  {
   "cell_type": "code",
   "execution_count": 988,
   "id": "807b27e9",
   "metadata": {},
   "outputs": [
    {
     "data": {
      "text/html": [
       "<div>\n",
       "<style scoped>\n",
       "    .dataframe tbody tr th:only-of-type {\n",
       "        vertical-align: middle;\n",
       "    }\n",
       "\n",
       "    .dataframe tbody tr th {\n",
       "        vertical-align: top;\n",
       "    }\n",
       "\n",
       "    .dataframe thead th {\n",
       "        text-align: right;\n",
       "    }\n",
       "</style>\n",
       "<table border=\"1\" class=\"dataframe\">\n",
       "  <thead>\n",
       "    <tr style=\"text-align: right;\">\n",
       "      <th></th>\n",
       "      <th>cluster_R</th>\n",
       "      <th>cluster_G</th>\n",
       "      <th>cluster_B</th>\n",
       "      <th>color</th>\n",
       "    </tr>\n",
       "    <tr>\n",
       "      <th>Unnamed: 0</th>\n",
       "      <th></th>\n",
       "      <th></th>\n",
       "      <th></th>\n",
       "      <th></th>\n",
       "    </tr>\n",
       "  </thead>\n",
       "  <tbody>\n",
       "    <tr>\n",
       "      <th>3980</th>\n",
       "      <td>35</td>\n",
       "      <td>145</td>\n",
       "      <td>217</td>\n",
       "      <td>NaN</td>\n",
       "    </tr>\n",
       "    <tr>\n",
       "      <th>4102</th>\n",
       "      <td>215</td>\n",
       "      <td>212</td>\n",
       "      <td>204</td>\n",
       "      <td>NaN</td>\n",
       "    </tr>\n",
       "    <tr>\n",
       "      <th>5219</th>\n",
       "      <td>218</td>\n",
       "      <td>219</td>\n",
       "      <td>224</td>\n",
       "      <td>NaN</td>\n",
       "    </tr>\n",
       "    <tr>\n",
       "      <th>5425</th>\n",
       "      <td>215</td>\n",
       "      <td>84</td>\n",
       "      <td>77</td>\n",
       "      <td>NaN</td>\n",
       "    </tr>\n",
       "    <tr>\n",
       "      <th>5914</th>\n",
       "      <td>220</td>\n",
       "      <td>221</td>\n",
       "      <td>226</td>\n",
       "      <td>NaN</td>\n",
       "    </tr>\n",
       "    <tr>\n",
       "      <th>...</th>\n",
       "      <td>...</td>\n",
       "      <td>...</td>\n",
       "      <td>...</td>\n",
       "      <td>...</td>\n",
       "    </tr>\n",
       "    <tr>\n",
       "      <th>10820</th>\n",
       "      <td>194</td>\n",
       "      <td>194</td>\n",
       "      <td>195</td>\n",
       "      <td>NaN</td>\n",
       "    </tr>\n",
       "    <tr>\n",
       "      <th>10821</th>\n",
       "      <td>168</td>\n",
       "      <td>198</td>\n",
       "      <td>103</td>\n",
       "      <td>NaN</td>\n",
       "    </tr>\n",
       "    <tr>\n",
       "      <th>10822</th>\n",
       "      <td>130</td>\n",
       "      <td>146</td>\n",
       "      <td>8</td>\n",
       "      <td>NaN</td>\n",
       "    </tr>\n",
       "    <tr>\n",
       "      <th>10823</th>\n",
       "      <td>143</td>\n",
       "      <td>162</td>\n",
       "      <td>4</td>\n",
       "      <td>NaN</td>\n",
       "    </tr>\n",
       "    <tr>\n",
       "      <th>10824</th>\n",
       "      <td>35</td>\n",
       "      <td>68</td>\n",
       "      <td>108</td>\n",
       "      <td>NaN</td>\n",
       "    </tr>\n",
       "  </tbody>\n",
       "</table>\n",
       "<p>1795 rows × 4 columns</p>\n",
       "</div>"
      ],
      "text/plain": [
       "            cluster_R  cluster_G  cluster_B color\n",
       "Unnamed: 0                                       \n",
       "3980               35        145        217   NaN\n",
       "4102              215        212        204   NaN\n",
       "5219              218        219        224   NaN\n",
       "5425              215         84         77   NaN\n",
       "5914              220        221        226   NaN\n",
       "...               ...        ...        ...   ...\n",
       "10820             194        194        195   NaN\n",
       "10821             168        198        103   NaN\n",
       "10822             130        146          8   NaN\n",
       "10823             143        162          4   NaN\n",
       "10824              35         68        108   NaN\n",
       "\n",
       "[1795 rows x 4 columns]"
      ]
     },
     "execution_count": 988,
     "metadata": {},
     "output_type": "execute_result"
    }
   ],
   "source": [
    "df = df[df['color'].isnull()]\n",
    "df"
   ]
  },
  {
   "cell_type": "markdown",
   "id": "52abefa9",
   "metadata": {},
   "source": [
    "# 본인이 맡은 인덱스 번호 지정\n",
    "- ex) `df = df[3000:6000]`"
   ]
  },
  {
   "cell_type": "code",
   "execution_count": 989,
   "id": "1ec77063",
   "metadata": {},
   "outputs": [
    {
     "data": {
      "text/html": [
       "<div>\n",
       "<style scoped>\n",
       "    .dataframe tbody tr th:only-of-type {\n",
       "        vertical-align: middle;\n",
       "    }\n",
       "\n",
       "    .dataframe tbody tr th {\n",
       "        vertical-align: top;\n",
       "    }\n",
       "\n",
       "    .dataframe thead th {\n",
       "        text-align: right;\n",
       "    }\n",
       "</style>\n",
       "<table border=\"1\" class=\"dataframe\">\n",
       "  <thead>\n",
       "    <tr style=\"text-align: right;\">\n",
       "      <th></th>\n",
       "      <th>cluster_R</th>\n",
       "      <th>cluster_G</th>\n",
       "      <th>cluster_B</th>\n",
       "      <th>color</th>\n",
       "    </tr>\n",
       "    <tr>\n",
       "      <th>Unnamed: 0</th>\n",
       "      <th></th>\n",
       "      <th></th>\n",
       "      <th></th>\n",
       "      <th></th>\n",
       "    </tr>\n",
       "  </thead>\n",
       "  <tbody>\n",
       "    <tr>\n",
       "      <th>3980</th>\n",
       "      <td>35</td>\n",
       "      <td>145</td>\n",
       "      <td>217</td>\n",
       "      <td>NaN</td>\n",
       "    </tr>\n",
       "    <tr>\n",
       "      <th>4102</th>\n",
       "      <td>215</td>\n",
       "      <td>212</td>\n",
       "      <td>204</td>\n",
       "      <td>NaN</td>\n",
       "    </tr>\n",
       "    <tr>\n",
       "      <th>5219</th>\n",
       "      <td>218</td>\n",
       "      <td>219</td>\n",
       "      <td>224</td>\n",
       "      <td>NaN</td>\n",
       "    </tr>\n",
       "    <tr>\n",
       "      <th>5425</th>\n",
       "      <td>215</td>\n",
       "      <td>84</td>\n",
       "      <td>77</td>\n",
       "      <td>NaN</td>\n",
       "    </tr>\n",
       "    <tr>\n",
       "      <th>5914</th>\n",
       "      <td>220</td>\n",
       "      <td>221</td>\n",
       "      <td>226</td>\n",
       "      <td>NaN</td>\n",
       "    </tr>\n",
       "    <tr>\n",
       "      <th>...</th>\n",
       "      <td>...</td>\n",
       "      <td>...</td>\n",
       "      <td>...</td>\n",
       "      <td>...</td>\n",
       "    </tr>\n",
       "    <tr>\n",
       "      <th>8337</th>\n",
       "      <td>111</td>\n",
       "      <td>152</td>\n",
       "      <td>186</td>\n",
       "      <td>NaN</td>\n",
       "    </tr>\n",
       "    <tr>\n",
       "      <th>8339</th>\n",
       "      <td>211</td>\n",
       "      <td>219</td>\n",
       "      <td>220</td>\n",
       "      <td>NaN</td>\n",
       "    </tr>\n",
       "    <tr>\n",
       "      <th>8340</th>\n",
       "      <td>95</td>\n",
       "      <td>95</td>\n",
       "      <td>98</td>\n",
       "      <td>NaN</td>\n",
       "    </tr>\n",
       "    <tr>\n",
       "      <th>8344</th>\n",
       "      <td>192</td>\n",
       "      <td>193</td>\n",
       "      <td>193</td>\n",
       "      <td>NaN</td>\n",
       "    </tr>\n",
       "    <tr>\n",
       "      <th>8346</th>\n",
       "      <td>170</td>\n",
       "      <td>171</td>\n",
       "      <td>171</td>\n",
       "      <td>NaN</td>\n",
       "    </tr>\n",
       "  </tbody>\n",
       "</table>\n",
       "<p>150 rows × 4 columns</p>\n",
       "</div>"
      ],
      "text/plain": [
       "            cluster_R  cluster_G  cluster_B color\n",
       "Unnamed: 0                                       \n",
       "3980               35        145        217   NaN\n",
       "4102              215        212        204   NaN\n",
       "5219              218        219        224   NaN\n",
       "5425              215         84         77   NaN\n",
       "5914              220        221        226   NaN\n",
       "...               ...        ...        ...   ...\n",
       "8337              111        152        186   NaN\n",
       "8339              211        219        220   NaN\n",
       "8340               95         95         98   NaN\n",
       "8344              192        193        193   NaN\n",
       "8346              170        171        171   NaN\n",
       "\n",
       "[150 rows x 4 columns]"
      ]
     },
     "execution_count": 989,
     "metadata": {},
     "output_type": "execute_result"
    }
   ],
   "source": [
    "df = df.iloc[0:150]\n",
    "df"
   ]
  },
  {
   "cell_type": "code",
   "execution_count": 990,
   "id": "2302c1a6",
   "metadata": {},
   "outputs": [],
   "source": [
    "def get_chrome_driver():\n",
    "    chrome_options = webdriver.ChromeOptions()\n",
    "    # chrome_options.headless = True\n",
    "\n",
    "    driver = webdriver.Chrome(\n",
    "        service=Service(ChromeDriverManager().install()),\n",
    "        options=chrome_options\n",
    "    )\n",
    "    \n",
    "    return driver"
   ]
  },
  {
   "cell_type": "code",
   "execution_count": 991,
   "id": "92ed0443",
   "metadata": {},
   "outputs": [
    {
     "name": "stdout",
     "output_type": "stream",
     "text": [
      "\n"
     ]
    }
   ],
   "source": [
    "driver = get_chrome_driver()\n",
    "driver.implicitly_wait(10)"
   ]
  },
  {
   "cell_type": "code",
   "execution_count": 992,
   "id": "121fc4f0",
   "metadata": {},
   "outputs": [],
   "source": [
    "driver.get('https://www.rapidtables.org/ko/web/color/RGB_Color.html')"
   ]
  },
  {
   "cell_type": "code",
   "execution_count": 993,
   "id": "129b0086",
   "metadata": {},
   "outputs": [],
   "source": [
    "df_iterator = df.iterrows()"
   ]
  },
  {
   "cell_type": "markdown",
   "id": "3d00cf7e",
   "metadata": {},
   "source": [
    "# 아래 두 셀 반복 실행\n",
    "- 아래 셀 color에 색깔 이름 적어서 실행"
   ]
  },
  {
   "cell_type": "code",
   "execution_count": 1300,
   "id": "408058ed",
   "metadata": {},
   "outputs": [
    {
     "ename": "StopIteration",
     "evalue": "",
     "output_type": "error",
     "traceback": [
      "\u001b[1;31m---------------------------------------------------------------------------\u001b[0m",
      "\u001b[1;31mStopIteration\u001b[0m                             Traceback (most recent call last)",
      "\u001b[1;32md:\\project03\\color_find_selenium.ipynb 셀 11\u001b[0m in \u001b[0;36m<cell line: 1>\u001b[1;34m()\u001b[0m\n\u001b[1;32m----> <a href='vscode-notebook-cell:/d%3A/project03/color_find_selenium.ipynb#ch0000011?line=0'>1</a>\u001b[0m idx, rgb \u001b[39m=\u001b[39m \u001b[39mnext\u001b[39;49m(df_iterator)\n\u001b[0;32m      <a href='vscode-notebook-cell:/d%3A/project03/color_find_selenium.ipynb#ch0000011?line=2'>3</a>\u001b[0m driver\u001b[39m.\u001b[39mfind_element(By\u001b[39m.\u001b[39mXPATH, \u001b[39m'\u001b[39m\u001b[39m//*[@id=\u001b[39m\u001b[39m\"\u001b[39m\u001b[39myui-picker-r\u001b[39m\u001b[39m\"\u001b[39m\u001b[39m]\u001b[39m\u001b[39m'\u001b[39m)\u001b[39m.\u001b[39mclear()\n\u001b[0;32m      <a href='vscode-notebook-cell:/d%3A/project03/color_find_selenium.ipynb#ch0000011?line=3'>4</a>\u001b[0m time\u001b[39m.\u001b[39msleep(\u001b[39m0.5\u001b[39m)\n",
      "\u001b[1;31mStopIteration\u001b[0m: "
     ]
    }
   ],
   "source": [
    "idx, rgb = next(df_iterator)\n",
    "\n",
    "driver.find_element(By.XPATH, '//*[@id=\"yui-picker-r\"]').clear()\n",
    "time.sleep(0.5)\n",
    "driver.find_element(By.XPATH, '//*[@id=\"yui-picker-r\"]').clear()\n",
    "driver.find_element(By.XPATH, '//*[@id=\"yui-picker-r\"]').send_keys(str(rgb['cluster_R']))\n",
    "\n",
    "driver.find_element(By.XPATH, '//*[@id=\"yui-picker-g\"]').clear()\n",
    "time.sleep(0.5)\n",
    "driver.find_element(By.XPATH, '//*[@id=\"yui-picker-g\"]').clear()\n",
    "driver.find_element(By.XPATH, '//*[@id=\"yui-picker-g\"]').send_keys(str(rgb['cluster_G']))\n",
    "\n",
    "driver.find_element(By.XPATH, '//*[@id=\"yui-picker-b\"]').clear()\n",
    "time.sleep(0.5)\n",
    "driver.find_element(By.XPATH, '//*[@id=\"yui-picker-b\"]').clear()\n",
    "driver.find_element(By.XPATH, '//*[@id=\"yui-picker-b\"]').send_keys(str(rgb['cluster_B']))\n",
    "\n",
    "time.sleep(0.5)\n",
    "driver.find_element(By.XPATH, '//*[@id=\"doc\"]/div[1]').click()"
   ]
  },
  {
   "cell_type": "code",
   "execution_count": 1299,
   "id": "c6ae20ae",
   "metadata": {},
   "outputs": [],
   "source": [
    "color = '회색'\n",
    "\n",
    "df.loc[idx, 'color'] = color"
   ]
  },
  {
   "cell_type": "code",
   "execution_count": 1301,
   "id": "632f7991",
   "metadata": {},
   "outputs": [],
   "source": [
    "df.to_csv(\"nan-0-150.csv\")"
   ]
  },
  {
   "cell_type": "code",
   "execution_count": null,
   "id": "4e3c6aab",
   "metadata": {},
   "outputs": [],
   "source": []
  }
 ],
 "metadata": {
  "kernelspec": {
   "display_name": "Python 3.9.12 ('base')",
   "language": "python",
   "name": "python3"
  },
  "language_info": {
   "codemirror_mode": {
    "name": "ipython",
    "version": 3
   },
   "file_extension": ".py",
   "mimetype": "text/x-python",
   "name": "python",
   "nbconvert_exporter": "python",
   "pygments_lexer": "ipython3",
   "version": "3.9.12"
  },
  "vscode": {
   "interpreter": {
    "hash": "f8c3b3a4f2fe0d4dd90b76fdb4f1c668e8b36810d893a620cb9dc7cc917f1afc"
   }
  }
 },
 "nbformat": 4,
 "nbformat_minor": 5
}
